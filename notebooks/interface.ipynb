{
 "cells": [
  {
   "cell_type": "code",
   "execution_count": 1,
   "metadata": {},
   "outputs": [
    {
     "name": "stderr",
     "output_type": "stream",
     "text": [
      "/opt/homebrew/lib/python3.9/site-packages/pinecone/index.py:4: TqdmExperimentalWarning: Using `tqdm.autonotebook.tqdm` in notebook mode. Use `tqdm.tqdm` instead to force console mode (e.g. in jupyter console)\n",
      "  from tqdm.autonotebook import tqdm\n"
     ]
    }
   ],
   "source": [
    "import sys\n",
    "sys.path\n",
    "if \"/Users/artur/dev/humero-poc/\" not in sys.path:\n",
    "    sys.path.append(\"/Users/artur/dev/humero-poc/\")\n",
    "from humero.main import Humero\n",
    "\n",
    "agent = Humero()"
   ]
  },
  {
   "cell_type": "code",
   "execution_count": 2,
   "metadata": {},
   "outputs": [
    {
     "name": "stdout",
     "output_type": "stream",
     "text": [
      "\u001b[1mAdding papers:\u001b[0m\n",
      "   - WikiChat: A Few-Shot LLM-Based Chatbot Grounded with Wikipedia\n",
      "     43 references \n",
      "\n",
      "   - Lost in the Middle: How Language Models Use Long Contexts\n",
      "     42 references \n",
      "\n",
      "   - Divide and Prompt: Chain of Thought Prompting for Text-to-SQL\n",
      "     25 references \n",
      "\n",
      "Error loading https://direct.mit.edu/tacl/article-pdf/doi/10.1162/tacl_a_00503/2043751/tacl_a_00503.pdf\n",
      "Error loading https://direct.mit.edu/tacl/article-pdf/doi/10.1162/tacl_a_00506/2043760/tacl_a_00506.pdf\n",
      "Error loading https://www.aclweb.org/anthology/N18-1074.pdf\n",
      "Error loading https://www.aclweb.org/anthology/2020.emnlp-main.466.pdf\n",
      "Error loading https://direct.mit.edu/tacl/article-pdf/doi/10.1162/tacl_a_00276/1923288/tacl_a_00276.pdf\n",
      "Error loading https://www.aclweb.org/anthology/P19-1004.pdf\n",
      "Error loading https://www.aclweb.org/anthology/P19-1612.pdf\n",
      "Error loading https://www.aclweb.org/anthology/P19-1285.pdf\n",
      "Error loading https://www.aclweb.org/anthology/P18-1027.pdf\n",
      "Error loading https://www.aclweb.org/anthology/2020.acl-main.677.pdf\n",
      "Error loading https://www.aclweb.org/anthology/2020.acl-main.703.pdf\n",
      "Error loading https://www.aclweb.org/anthology/D18-1425.pdf\n",
      "\u001b[1mIndexed papers:\u001b[0m\n",
      "   - ColBERTv2: Effective and Efficient Retrieval via Lightweight Late Interaction\n",
      "   - DialFact: A Benchmark for Fact-Checking in Dialogue\n",
      "   - Internet-Augmented Dialogue Generation\n",
      "   - Q^{2}: Evaluating Factual Consistency in Knowledge-Grounded Dialogues via Question Generation and Question Answering\n",
      "   - Retrieval Augmentation Reduces Hallucination in Conversation\n",
      "   - Recipes for Building an Open-Domain Chatbot\n",
      "   - Fine-grained Fact Verification with Kernel Graph Attention Network\n",
      "   - Bleu: a Method for Automatic Evaluation of Machine Translation\n",
      "   - Do Long-Range Language Models Actually Use Long-Range Context?\n",
      "   - What Context Features Can Transformer Language Models Use?\n",
      "   - Shortformer: Better Language Modeling using Shorter Inputs\n",
      "   - Efficient Transformers: A Survey\n",
      "   - Leveraging Passage Retrieval with Generative Models for Open Domain Question Answering\n",
      "   - Prediction with a short memory\n",
      "   - Memory: A Contribution to Experimental Psychology\n",
      "   - Where to stop reading a ranked list?: threshold optimization using truncated score distributions\n",
      "   - Exploring Underexplored Limitations of Cross-Domain Text-to-SQL Generalization\n",
      "   - PICARD: Parsing Incrementally for Constrained Auto-Regressive Decoding from Language Models\n",
      "   - Towards Robustness of Text-to-SQL Models against Synonym Substitution\n",
      "   - Learning Contextual Representations for Semantic Parsing with Generation-Augmented Pre-Training\n",
      "   - Semantic Evaluation for Text-to-SQL with Distilled Test Suite\n"
     ]
    }
   ],
   "source": [
    "paper_list = [\n",
    "     'arXiv:2305.14292',\n",
    "     'arXiv:2307.03172',\n",
    "     'arXiv:2304.11556'\n",
    "]\n",
    "agent.add_paper_list(paper_list)"
   ]
  },
  {
   "cell_type": "code",
   "execution_count": null,
   "metadata": {},
   "outputs": [
    {
     "name": "stdout",
     "output_type": "stream",
     "text": [
      "\u001b[1mSources: \u001b[0m\n",
      "-----------------------------------------\n",
      "\u001b[1mPage: \u001b[0m11\n",
      "\u001b[1mDocument: \u001b[0m/var/folders/br/2vy127pj7974fg9x0rwsp4gm0000gn/T/tmpix8t127c/tmp.pdf\n",
      "-----------------------------------------\n",
      "\u001b[1mPage: \u001b[0m6\n",
      "\u001b[1mDocument: \u001b[0m/var/folders/br/2vy127pj7974fg9x0rwsp4gm0000gn/T/tmpean8opu8/tmp.pdf\n",
      "-----------------------------------------\n",
      "\u001b[1mPage: \u001b[0m4\n",
      "\u001b[1mDocument: \u001b[0m/var/folders/br/2vy127pj7974fg9x0rwsp4gm0000gn/T/tmph4_3__ma/tmp.pdf\n",
      "-----------------------------------------\n",
      "\u001b[1mPage: \u001b[0m2\n",
      "\u001b[1mDocument: \u001b[0m/var/folders/br/2vy127pj7974fg9x0rwsp4gm0000gn/T/tmpean8opu8/tmp.pdf\n",
      "-----------------------------------------\n",
      "\u001b[1mPage: \u001b[0m4\n",
      "\u001b[1mDocument: \u001b[0m/var/folders/br/2vy127pj7974fg9x0rwsp4gm0000gn/T/tmp9w0fwy9j/tmp.pdf\n",
      "-----------------------------------------\n",
      "\u001b[1mPage: \u001b[0m5\n",
      "\u001b[1mDocument: \u001b[0m/var/folders/br/2vy127pj7974fg9x0rwsp4gm0000gn/T/tmp9w0fwy9j/tmp.pdf\n",
      "-----------------------------------------\n",
      "\u001b[1mPage: \u001b[0m4\n",
      "\u001b[1mDocument: \u001b[0m/var/folders/br/2vy127pj7974fg9x0rwsp4gm0000gn/T/tmpix8t127c/tmp.pdf\n",
      "-----------------------------------------\n",
      "\u001b[1mPage: \u001b[0m13\n",
      "\u001b[1mDocument: \u001b[0m/var/folders/br/2vy127pj7974fg9x0rwsp4gm0000gn/T/tmpix8t127c/tmp.pdf\n",
      "-----------------------------------------\n",
      "\u001b[1mPage: \u001b[0m0\n",
      "\u001b[1mDocument: \u001b[0m/var/folders/br/2vy127pj7974fg9x0rwsp4gm0000gn/T/tmp9w0fwy9j/tmp.pdf\n",
      "-----------------------------------------\n",
      "\u001b[1mPage: \u001b[0m1\n",
      "\u001b[1mDocument: \u001b[0m/var/folders/br/2vy127pj7974fg9x0rwsp4gm0000gn/T/tmp9w0fwy9j/tmp.pdf\n"
     ]
    }
   ],
   "source": [
    "agent.ask(\"What is the spider dataset?\")"
   ]
  },
  {
   "cell_type": "code",
   "execution_count": null,
   "metadata": {},
   "outputs": [],
   "source": []
  }
 ],
 "metadata": {
  "kernelspec": {
   "display_name": "Python 3 (ipykernel)",
   "language": "python",
   "name": "python3"
  },
  "language_info": {
   "codemirror_mode": {
    "name": "ipython",
    "version": 3
   },
   "file_extension": ".py",
   "mimetype": "text/x-python",
   "name": "python",
   "nbconvert_exporter": "python",
   "pygments_lexer": "ipython3",
   "version": "3.9.17"
  }
 },
 "nbformat": 4,
 "nbformat_minor": 4
}
