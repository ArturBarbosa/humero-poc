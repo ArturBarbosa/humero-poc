{
 "cells": [
  {
   "cell_type": "code",
   "execution_count": 1,
   "metadata": {},
   "outputs": [
    {
     "name": "stderr",
     "output_type": "stream",
     "text": [
      "/opt/homebrew/lib/python3.9/site-packages/pinecone/index.py:4: TqdmExperimentalWarning: Using `tqdm.autonotebook.tqdm` in notebook mode. Use `tqdm.tqdm` instead to force console mode (e.g. in jupyter console)\n",
      "  from tqdm.autonotebook import tqdm\n"
     ]
    }
   ],
   "source": [
    "import sys\n",
    "sys.path\n",
    "if \"/Users/artur/dev/humero-poc/\" not in sys.path:\n",
    "    sys.path.append(\"/Users/artur/dev/humero-poc/\")\n",
    "from humero.main import Humero\n",
    "\n",
    "agent = Humero()"
   ]
  },
  {
   "cell_type": "code",
   "execution_count": null,
   "metadata": {},
   "outputs": [],
   "source": [
    "paper_list = [\n",
    "     'arXiv:2305.14292',\n",
    "     'arXiv:2307.03172',\n",
    "     'arXiv:2304.11556'\n",
    "]\n",
    "agent.add_paper_list(paper_list)"
   ]
  },
  {
   "cell_type": "code",
   "execution_count": 2,
   "metadata": {},
   "outputs": [
    {
     "name": "stdout",
     "output_type": "stream",
     "text": [
      "\u001b[1mSources: \u001b[0m\n",
      "-----------------------------------------\n",
      "\u001b[1mPage: \u001b[0m11\n",
      "\u001b[1mDocument: \u001b[0m/var/folders/br/2vy127pj7974fg9x0rwsp4gm0000gn/T/tmp_p176wgk/tmp.pdf\n",
      "-----------------------------------------\n",
      "\u001b[1mPage: \u001b[0m11\n",
      "\u001b[1mDocument: \u001b[0m/var/folders/br/2vy127pj7974fg9x0rwsp4gm0000gn/T/tmpuyv8563b/tmp.pdf\n",
      "-----------------------------------------\n",
      "\u001b[1mPage: \u001b[0m6\n",
      "\u001b[1mDocument: \u001b[0m/var/folders/br/2vy127pj7974fg9x0rwsp4gm0000gn/T/tmp76b7h49y/tmp.pdf\n",
      "-----------------------------------------\n",
      "\u001b[1mPage: \u001b[0m6\n",
      "\u001b[1mDocument: \u001b[0m/var/folders/br/2vy127pj7974fg9x0rwsp4gm0000gn/T/tmpoxc4g7du/tmp.pdf\n",
      "-----------------------------------------\n",
      "\u001b[1mPage: \u001b[0m4\n",
      "\u001b[1mDocument: \u001b[0m/var/folders/br/2vy127pj7974fg9x0rwsp4gm0000gn/T/tmpalzd95rf/tmp.pdf\n",
      "-----------------------------------------\n",
      "\u001b[1mPage: \u001b[0m4\n",
      "\u001b[1mDocument: \u001b[0m/var/folders/br/2vy127pj7974fg9x0rwsp4gm0000gn/T/tmpa4neohao/tmp.pdf\n",
      "-----------------------------------------\n",
      "\u001b[1mPage: \u001b[0m2\n",
      "\u001b[1mDocument: \u001b[0m/var/folders/br/2vy127pj7974fg9x0rwsp4gm0000gn/T/tmp76b7h49y/tmp.pdf\n",
      "-----------------------------------------\n",
      "\u001b[1mPage: \u001b[0m2\n",
      "\u001b[1mDocument: \u001b[0m/var/folders/br/2vy127pj7974fg9x0rwsp4gm0000gn/T/tmpoxc4g7du/tmp.pdf\n",
      "-----------------------------------------\n",
      "\u001b[1mPage: \u001b[0m4\n",
      "\u001b[1mDocument: \u001b[0m/var/folders/br/2vy127pj7974fg9x0rwsp4gm0000gn/T/tmp9by1snkd/tmp.pdf\n",
      "-----------------------------------------\n",
      "\u001b[1mPage: \u001b[0m4\n",
      "\u001b[1mDocument: \u001b[0m/var/folders/br/2vy127pj7974fg9x0rwsp4gm0000gn/T/tmpbiq6p586/tmp.pdf\n",
      "-----------------------------------------\n",
      "\u001b[1mAnswer:\u001b[0mThe Spider dataset is a large-scale human-labeled dataset for complex and cross-domain semantic parsing and the text-to-SQL task. It is a multi-domain and cross-database dataset used for training and evaluating models in the task of converting natural language questions into SQL queries. The dataset consists of 7,000 examples in the training set and includes a development set and a hidden test set. It is also used for tasks such as SQL-grounded dialog state tracking, where models predict a SQL query for each question given previous questions in an interaction context.\n"
     ]
    }
   ],
   "source": [
    "agent.ask(\"What is the spider dataset?\")"
   ]
  },
  {
   "cell_type": "code",
   "execution_count": null,
   "metadata": {},
   "outputs": [],
   "source": []
  }
 ],
 "metadata": {
  "kernelspec": {
   "display_name": "Python 3 (ipykernel)",
   "language": "python",
   "name": "python3"
  },
  "language_info": {
   "codemirror_mode": {
    "name": "ipython",
    "version": 3
   },
   "file_extension": ".py",
   "mimetype": "text/x-python",
   "name": "python",
   "nbconvert_exporter": "python",
   "pygments_lexer": "ipython3",
   "version": "3.9.17"
  }
 },
 "nbformat": 4,
 "nbformat_minor": 4
}
